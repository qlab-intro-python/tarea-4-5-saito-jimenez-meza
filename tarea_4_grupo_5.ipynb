{
 "cells": [
  {
   "cell_type": "markdown",
   "metadata": {},
   "source": [
    "# **Tarea Nº 4**"
   ]
  },
  {
   "cell_type": "markdown",
   "metadata": {},
   "source": [
    "- Fecha y hora de entrega: Domingo 12 de enero, 11:59pm\n",
    "- Agregue los nombres de las personas con las que discutió esta tarea: ____ Ariza Saito ____ Sebatian Jimenez ____ Marco Meza ____\n",
    "- Envíe su tarea haciendo el `push` de su código a su repo en GitHub Classroom: "
   ]
  },
  {
   "cell_type": "markdown",
   "metadata": {},
   "source": [
    "### Evaluación\n",
    "\n",
    "- Nota: **17/20**\n",
    "\n",
    "¡Buen trabajo en general!"
   ]
  },
  {
   "cell_type": "markdown",
   "metadata": {},
   "source": [
    "## **Mercado de autos usados**"
   ]
  },
  {
   "cell_type": "markdown",
   "metadata": {},
   "source": [
    "Importa el conjunto de datos `neoauto_20240924.csv`\n",
    "    "
   ]
  },
  {
   "cell_type": "code",
   "execution_count": null,
   "metadata": {},
   "outputs": [],
   "source": [
    "pip install pandas"
   ]
  },
  {
   "cell_type": "code",
   "execution_count": 2,
   "metadata": {},
   "outputs": [],
   "source": [
    "import pandas as pd\n",
    "df  = pd.read_csv('neoauto_20240924.csv')"
   ]
  },
  {
   "cell_type": "markdown",
   "metadata": {},
   "source": [
    "1. ¿Cuál es el precio promedio de los autos de cada marca (`item_brand`) publicados en cada subcategoría (`item_category_2`)?"
   ]
  },
  {
   "cell_type": "code",
   "execution_count": 9,
   "metadata": {},
   "outputs": [
    {
     "data": {
      "text/html": [
       "<div>\n",
       "<style scoped>\n",
       "    .dataframe tbody tr th:only-of-type {\n",
       "        vertical-align: middle;\n",
       "    }\n",
       "\n",
       "    .dataframe tbody tr th {\n",
       "        vertical-align: top;\n",
       "    }\n",
       "\n",
       "    .dataframe thead th {\n",
       "        text-align: right;\n",
       "    }\n",
       "</style>\n",
       "<table border=\"1\" class=\"dataframe\">\n",
       "  <thead>\n",
       "    <tr style=\"text-align: right;\">\n",
       "      <th></th>\n",
       "      <th></th>\n",
       "      <th>price</th>\n",
       "    </tr>\n",
       "    <tr>\n",
       "      <th>item_category_2</th>\n",
       "      <th>item_brand</th>\n",
       "      <th></th>\n",
       "    </tr>\n",
       "  </thead>\n",
       "  <tbody>\n",
       "    <tr>\n",
       "      <th rowspan=\"5\" valign=\"top\">Camionetas Suv</th>\n",
       "      <th>ASTON MARTIN</th>\n",
       "      <td>229000.000000</td>\n",
       "    </tr>\n",
       "    <tr>\n",
       "      <th>AUDI</th>\n",
       "      <td>34602.424242</td>\n",
       "    </tr>\n",
       "    <tr>\n",
       "      <th>BAIC</th>\n",
       "      <td>10800.000000</td>\n",
       "    </tr>\n",
       "    <tr>\n",
       "      <th>BAIC YINXIANG</th>\n",
       "      <td>8500.000000</td>\n",
       "    </tr>\n",
       "    <tr>\n",
       "      <th>BMW</th>\n",
       "      <td>38377.802469</td>\n",
       "    </tr>\n",
       "    <tr>\n",
       "      <th>...</th>\n",
       "      <th>...</th>\n",
       "      <td>...</td>\n",
       "    </tr>\n",
       "    <tr>\n",
       "      <th rowspan=\"5\" valign=\"top\">Vans</th>\n",
       "      <th>RAM</th>\n",
       "      <td>8883.333333</td>\n",
       "    </tr>\n",
       "    <tr>\n",
       "      <th>RENAULT</th>\n",
       "      <td>4900.000000</td>\n",
       "    </tr>\n",
       "    <tr>\n",
       "      <th>SUZUKI</th>\n",
       "      <td>11058.333333</td>\n",
       "    </tr>\n",
       "    <tr>\n",
       "      <th>TOYOTA</th>\n",
       "      <td>16080.000000</td>\n",
       "    </tr>\n",
       "    <tr>\n",
       "      <th>VOLKSWAGEN</th>\n",
       "      <td>14350.000000</td>\n",
       "    </tr>\n",
       "  </tbody>\n",
       "</table>\n",
       "<p>202 rows × 1 columns</p>\n",
       "</div>"
      ],
      "text/plain": [
       "                                       price\n",
       "item_category_2 item_brand                  \n",
       "Camionetas Suv  ASTON MARTIN   229000.000000\n",
       "                AUDI            34602.424242\n",
       "                BAIC            10800.000000\n",
       "                BAIC YINXIANG    8500.000000\n",
       "                BMW             38377.802469\n",
       "...                                      ...\n",
       "Vans            RAM              8883.333333\n",
       "                RENAULT          4900.000000\n",
       "                SUZUKI          11058.333333\n",
       "                TOYOTA          16080.000000\n",
       "                VOLKSWAGEN      14350.000000\n",
       "\n",
       "[202 rows x 1 columns]"
      ]
     },
     "execution_count": 9,
     "metadata": {},
     "output_type": "execute_result"
    }
   ],
   "source": [
    "df.groupby(['item_category_2', 'item_brand']).agg({'price': 'mean'})"
   ]
  },
  {
   "cell_type": "markdown",
   "metadata": {},
   "source": [
    "2. ¿Cuántos autos tienen más de 100,000 kilómetros (`item_km`) pero un precio (`item_price`) menor al promedio general?"
   ]
  },
  {
   "cell_type": "code",
   "execution_count": 16,
   "metadata": {},
   "outputs": [
    {
     "name": "stdout",
     "output_type": "stream",
     "text": [
      "The number of cars with a price higher than the average and more than 100,000 km is:  497\n"
     ]
    }
   ],
   "source": [
    "avg_price = df['price'].mean()\n",
    "num_objetive = df['item_id'][(df['price'] < avg_price) & (df['item_km'] > 100000)].count()\n",
    "print(\"The number of cars with a price higher than the average and more than 100,000 km is: \", num_objetive)"
   ]
  },
  {
   "cell_type": "markdown",
   "metadata": {},
   "source": [
    "3. Encuentra el modelo (`item_name`) más caro y el más barato de cada marca (`item_brand`)."
   ]
  },
  {
   "cell_type": "code",
   "execution_count": 35,
   "metadata": {},
   "outputs": [
    {
     "data": {
      "text/html": [
       "<div>\n",
       "<style scoped>\n",
       "    .dataframe tbody tr th:only-of-type {\n",
       "        vertical-align: middle;\n",
       "    }\n",
       "\n",
       "    .dataframe tbody tr th {\n",
       "        vertical-align: top;\n",
       "    }\n",
       "\n",
       "    .dataframe thead th {\n",
       "        text-align: right;\n",
       "    }\n",
       "</style>\n",
       "<table border=\"1\" class=\"dataframe\">\n",
       "  <thead>\n",
       "    <tr style=\"text-align: right;\">\n",
       "      <th></th>\n",
       "      <th>item_brand</th>\n",
       "      <th>most_expensive</th>\n",
       "      <th>cheapest</th>\n",
       "    </tr>\n",
       "  </thead>\n",
       "  <tbody>\n",
       "    <tr>\n",
       "      <th>0</th>\n",
       "      <td>ALFA-ROMEO</td>\n",
       "      <td>alfa-romeo 147 2006</td>\n",
       "      <td>alfa-romeo alfasud 1982</td>\n",
       "    </tr>\n",
       "    <tr>\n",
       "      <th>1</th>\n",
       "      <td>ASTON MARTIN</td>\n",
       "      <td>aston martin dbx 2021</td>\n",
       "      <td>aston martin db11 2017</td>\n",
       "    </tr>\n",
       "    <tr>\n",
       "      <th>2</th>\n",
       "      <td>AUDI</td>\n",
       "      <td>audi rs 6 2024</td>\n",
       "      <td>audi a3 sedan 2015</td>\n",
       "    </tr>\n",
       "    <tr>\n",
       "      <th>3</th>\n",
       "      <td>AUSTIN</td>\n",
       "      <td>austin mini cooper 1970</td>\n",
       "      <td>austin mini cooper 1970</td>\n",
       "    </tr>\n",
       "    <tr>\n",
       "      <th>4</th>\n",
       "      <td>BAIC</td>\n",
       "      <td>baic x55 2021</td>\n",
       "      <td>baic plus 2018</td>\n",
       "    </tr>\n",
       "    <tr>\n",
       "      <th>...</th>\n",
       "      <td>...</td>\n",
       "      <td>...</td>\n",
       "      <td>...</td>\n",
       "    </tr>\n",
       "    <tr>\n",
       "      <th>68</th>\n",
       "      <td>SWM</td>\n",
       "      <td>swm g05 pro 2022</td>\n",
       "      <td>swm g05 pro 2022</td>\n",
       "    </tr>\n",
       "    <tr>\n",
       "      <th>69</th>\n",
       "      <td>TOYOTA</td>\n",
       "      <td>toyota hilux 2019</td>\n",
       "      <td>toyota land cruiser prado 2011</td>\n",
       "    </tr>\n",
       "    <tr>\n",
       "      <th>70</th>\n",
       "      <td>TRIUMPH</td>\n",
       "      <td>triumph tr-7 1971</td>\n",
       "      <td>triumph tr-7 1971</td>\n",
       "    </tr>\n",
       "    <tr>\n",
       "      <th>71</th>\n",
       "      <td>VOLKSWAGEN</td>\n",
       "      <td>volkswagen teramont 2023</td>\n",
       "      <td>volkswagen bora 2015</td>\n",
       "    </tr>\n",
       "    <tr>\n",
       "      <th>72</th>\n",
       "      <td>VOLVO</td>\n",
       "      <td>volvo xc-90 2023</td>\n",
       "      <td>volvo 850 turbo 1995</td>\n",
       "    </tr>\n",
       "  </tbody>\n",
       "</table>\n",
       "<p>73 rows × 3 columns</p>\n",
       "</div>"
      ],
      "text/plain": [
       "      item_brand            most_expensive                        cheapest\n",
       "0     ALFA-ROMEO       alfa-romeo 147 2006         alfa-romeo alfasud 1982\n",
       "1   ASTON MARTIN     aston martin dbx 2021          aston martin db11 2017\n",
       "2           AUDI            audi rs 6 2024              audi a3 sedan 2015\n",
       "3         AUSTIN   austin mini cooper 1970         austin mini cooper 1970\n",
       "4           BAIC             baic x55 2021                  baic plus 2018\n",
       "..           ...                       ...                             ...\n",
       "68           SWM          swm g05 pro 2022                swm g05 pro 2022\n",
       "69        TOYOTA         toyota hilux 2019  toyota land cruiser prado 2011\n",
       "70       TRIUMPH         triumph tr-7 1971               triumph tr-7 1971\n",
       "71    VOLKSWAGEN  volkswagen teramont 2023            volkswagen bora 2015\n",
       "72         VOLVO          volvo xc-90 2023            volvo 850 turbo 1995\n",
       "\n",
       "[73 rows x 3 columns]"
      ]
     },
     "execution_count": 35,
     "metadata": {},
     "output_type": "execute_result"
    }
   ],
   "source": [
    "df_most_expensive = (df.loc[df.groupby('item_brand')['item_price'].idxmax()][['item_brand', 'item_name']].\n",
    "                     rename(columns = {'item_name' : 'most_expensive'}))\n",
    "df_cheapest = (df.loc[df.groupby('item_brand')['item_price'].idxmin()][['item_brand', 'item_name']].\n",
    "               rename(columns = {'item_name' : 'cheapest'}))\n",
    "df_most_expensive.merge(df_cheapest, on = 'item_brand')"
   ]
  },
  {
   "cell_type": "markdown",
   "metadata": {},
   "source": [
    "4. Encuentra las tres marcas con mayor número de autos financiados por Santander (`item_financed_by`). "
   ]
  },
  {
   "cell_type": "code",
   "execution_count": 46,
   "metadata": {},
   "outputs": [
    {
     "data": {
      "text/html": [
       "<div>\n",
       "<style scoped>\n",
       "    .dataframe tbody tr th:only-of-type {\n",
       "        vertical-align: middle;\n",
       "    }\n",
       "\n",
       "    .dataframe tbody tr th {\n",
       "        vertical-align: top;\n",
       "    }\n",
       "\n",
       "    .dataframe thead th {\n",
       "        text-align: right;\n",
       "    }\n",
       "</style>\n",
       "<table border=\"1\" class=\"dataframe\">\n",
       "  <thead>\n",
       "    <tr style=\"text-align: right;\">\n",
       "      <th></th>\n",
       "      <th></th>\n",
       "      <th>num_financed</th>\n",
       "    </tr>\n",
       "    <tr>\n",
       "      <th>item_brand</th>\n",
       "      <th>item_financed_by</th>\n",
       "      <th></th>\n",
       "    </tr>\n",
       "  </thead>\n",
       "  <tbody>\n",
       "    <tr>\n",
       "      <th>BMW</th>\n",
       "      <th>Santander</th>\n",
       "      <td>296</td>\n",
       "    </tr>\n",
       "    <tr>\n",
       "      <th>TOYOTA</th>\n",
       "      <th>Santander</th>\n",
       "      <td>261</td>\n",
       "    </tr>\n",
       "    <tr>\n",
       "      <th>NISSAN</th>\n",
       "      <th>Santander</th>\n",
       "      <td>228</td>\n",
       "    </tr>\n",
       "  </tbody>\n",
       "</table>\n",
       "</div>"
      ],
      "text/plain": [
       "                             num_financed\n",
       "item_brand item_financed_by              \n",
       "BMW        Santander                  296\n",
       "TOYOTA     Santander                  261\n",
       "NISSAN     Santander                  228"
      ]
     },
     "execution_count": 46,
     "metadata": {},
     "output_type": "execute_result"
    }
   ],
   "source": [
    "top_3_financed_by_Santander = (df.groupby(['item_brand', 'item_financed_by']).agg({'item_id' : 'count'}).\n",
    "                               sort_values('item_id', ascending = False).\n",
    "                               rename(columns = {'item_id' : 'num_financed'}))\n",
    "top_3_financed_by_Santander.head(3)"
   ]
  },
  {
   "cell_type": "markdown",
   "metadata": {},
   "source": [
    "5. Agrupa las publicaciones por tipo de transmisión (`item_transmission`) y calcula la desviación estándar del precio (`item_price`) para cada tipo.  "
   ]
  },
  {
   "cell_type": "code",
   "execution_count": 47,
   "metadata": {},
   "outputs": [
    {
     "data": {
      "text/html": [
       "<div>\n",
       "<style scoped>\n",
       "    .dataframe tbody tr th:only-of-type {\n",
       "        vertical-align: middle;\n",
       "    }\n",
       "\n",
       "    .dataframe tbody tr th {\n",
       "        vertical-align: top;\n",
       "    }\n",
       "\n",
       "    .dataframe thead th {\n",
       "        text-align: right;\n",
       "    }\n",
       "</style>\n",
       "<table border=\"1\" class=\"dataframe\">\n",
       "  <thead>\n",
       "    <tr style=\"text-align: right;\">\n",
       "      <th></th>\n",
       "      <th>price</th>\n",
       "    </tr>\n",
       "    <tr>\n",
       "      <th>item_transmission</th>\n",
       "      <th></th>\n",
       "    </tr>\n",
       "  </thead>\n",
       "  <tbody>\n",
       "    <tr>\n",
       "      <th>Automática</th>\n",
       "      <td>15332.729048</td>\n",
       "    </tr>\n",
       "    <tr>\n",
       "      <th>Automática - Secuencial</th>\n",
       "      <td>22678.641589</td>\n",
       "    </tr>\n",
       "    <tr>\n",
       "      <th>Mecánica</th>\n",
       "      <td>8137.122127</td>\n",
       "    </tr>\n",
       "  </tbody>\n",
       "</table>\n",
       "</div>"
      ],
      "text/plain": [
       "                                price\n",
       "item_transmission                    \n",
       "Automática               15332.729048\n",
       "Automática - Secuencial  22678.641589\n",
       "Mecánica                  8137.122127"
      ]
     },
     "execution_count": 47,
     "metadata": {},
     "output_type": "execute_result"
    }
   ],
   "source": [
    "df.groupby('item_transmission').agg({'price' : 'std'})"
   ]
  },
  {
   "cell_type": "markdown",
   "metadata": {},
   "source": [
    "6. ¿Cuál es el kilometraje promedio de las publicaciones con el tag \"Premium\" y de las publicaciones con el tag \"Como nuevo\"?"
   ]
  },
  {
   "cell_type": "code",
   "execution_count": 3,
   "metadata": {},
   "outputs": [
    {
     "name": "stdout",
     "output_type": "stream",
     "text": [
      "The average km of the cars in the 'Como nuevo' category is:  35963.47619047619\n",
      "The average km of the cars in the 'PREMIUM' category is:  48131.67698019802\n"
     ]
    }
   ],
   "source": [
    "km_avg_como_nuevo = df[df['item_tag'] == 'Como nuevo']['item_km'].mean()\n",
    "km_avg_premiun = df[df['item_publication_type'] == 'PREMIUM']['item_km'].mean()\n",
    "km_avg_como_nuevo, km_avg_premiun\n",
    "print(\"The average km of the cars in the 'Como nuevo' category is: \", km_avg_como_nuevo)\n",
    "print(\"The average km of the cars in the 'PREMIUM' category is: \", km_avg_premiun)"
   ]
  },
  {
   "cell_type": "markdown",
   "metadata": {},
   "source": [
    "7. ¿Cuáles son las marcas de vehículas para los que todos sus modelos fabricados en los últimos 5 años tienen al menos 5 publicaciones cada una?"
   ]
  },
  {
   "cell_type": "code",
   "execution_count": 6,
   "metadata": {},
   "outputs": [
    {
     "name": "stdout",
     "output_type": "stream",
     "text": [
      "The brands that have all their models with 5 or more publications are:  []\n"
     ]
    }
   ],
   "source": [
    "recent_vehicles = df[df['item_year'] >= 2021]\n",
    "publications_per_model = recent_vehicles.groupby(['item_brand', 'item_name']).size()\n",
    "brands_with_all_models_5_plus = (\n",
    "    publications_per_model.groupby(level=0)\n",
    "    .filter(lambda x: x.min() >= 5)\n",
    "    .index.get_level_values(0)\n",
    "    .unique()\n",
    ")\n",
    "# Se asume que se busca que cada uno de los modelos de una marca tenga al menos 5 publicaciones\n",
    "brands_with_all_models_5_plus\n",
    "print(\"The brands that have all their models with 5 or more publications are: \", brands_with_all_models_5_plus.tolist())"
   ]
  },
  {
   "cell_type": "markdown",
   "metadata": {},
   "source": [
    "## **Evolución económica internacional**"
   ]
  },
  {
   "cell_type": "markdown",
   "metadata": {},
   "source": [
    "Importa el conjunto de datos de la hoja \"Data\" del archivo `pwt1001.xlsx`. El diccionario de variables está disponible en la hoja \"Legend\" del archivo Excel.\n",
    "    "
   ]
  },
  {
   "cell_type": "code",
   "execution_count": 63,
   "metadata": {},
   "outputs": [
    {
     "name": "stdout",
     "output_type": "stream",
     "text": [
      "Collecting openpyxl\n",
      "  Downloading openpyxl-3.1.5-py2.py3-none-any.whl (250 kB)\n",
      "                                              0.0/250.9 kB ? eta -:--:--\n",
      "     ------------------                     122.9/250.9 kB 7.5 MB/s eta 0:00:01\n",
      "     -------------------------------------- 250.9/250.9 kB 3.9 MB/s eta 0:00:00\n",
      "Collecting et-xmlfile (from openpyxl)\n",
      "  Downloading et_xmlfile-2.0.0-py3-none-any.whl (18 kB)\n",
      "Installing collected packages: et-xmlfile, openpyxl\n",
      "Successfully installed et-xmlfile-2.0.0 openpyxl-3.1.5\n",
      "Note: you may need to restart the kernel to use updated packages.\n"
     ]
    },
    {
     "name": "stderr",
     "output_type": "stream",
     "text": [
      "\n",
      "[notice] A new release of pip is available: 23.1.2 -> 24.3.1\n",
      "[notice] To update, run: python.exe -m pip install --upgrade pip\n"
     ]
    }
   ],
   "source": [
    "pip install openpyxl"
   ]
  },
  {
   "cell_type": "code",
   "execution_count": 7,
   "metadata": {},
   "outputs": [],
   "source": [
    "data_df = pd.read_excel('pwt1001.xlsx', sheet_name = 'Data')"
   ]
  },
  {
   "cell_type": "markdown",
   "metadata": {},
   "source": [
    "1. Calcule el PBI per cápita real ajustado por poder de paridad de compra (PPP). Use la variable de PBI que se calcula por gasto y la población. ¿Cuáles son los 10 países top?"
   ]
  },
  {
   "cell_type": "code",
   "execution_count": 20,
   "metadata": {},
   "outputs": [
    {
     "data": {
      "text/html": [
       "<div>\n",
       "<style scoped>\n",
       "    .dataframe tbody tr th:only-of-type {\n",
       "        vertical-align: middle;\n",
       "    }\n",
       "\n",
       "    .dataframe tbody tr th {\n",
       "        vertical-align: top;\n",
       "    }\n",
       "\n",
       "    .dataframe thead th {\n",
       "        text-align: right;\n",
       "    }\n",
       "</style>\n",
       "<table border=\"1\" class=\"dataframe\">\n",
       "  <thead>\n",
       "    <tr style=\"text-align: right;\">\n",
       "      <th></th>\n",
       "      <th>country</th>\n",
       "      <th>rgdp_per_capita_ppp</th>\n",
       "    </tr>\n",
       "  </thead>\n",
       "  <tbody>\n",
       "    <tr>\n",
       "      <th>7209</th>\n",
       "      <td>Luxembourg</td>\n",
       "      <td>112941.453342</td>\n",
       "    </tr>\n",
       "    <tr>\n",
       "      <th>7349</th>\n",
       "      <td>China, Macao SAR</td>\n",
       "      <td>105337.890061</td>\n",
       "    </tr>\n",
       "    <tr>\n",
       "      <th>9799</th>\n",
       "      <td>Qatar</td>\n",
       "      <td>103445.127269</td>\n",
       "    </tr>\n",
       "    <tr>\n",
       "      <th>5599</th>\n",
       "      <td>Ireland</td>\n",
       "      <td>102353.631443</td>\n",
       "    </tr>\n",
       "    <tr>\n",
       "      <th>10289</th>\n",
       "      <td>Singapore</td>\n",
       "      <td>88619.305271</td>\n",
       "    </tr>\n",
       "    <tr>\n",
       "      <th>1609</th>\n",
       "      <td>Bermuda</td>\n",
       "      <td>79967.588736</td>\n",
       "    </tr>\n",
       "    <tr>\n",
       "      <th>2239</th>\n",
       "      <td>Switzerland</td>\n",
       "      <td>71831.637057</td>\n",
       "    </tr>\n",
       "    <tr>\n",
       "      <th>3079</th>\n",
       "      <td>Cayman Islands</td>\n",
       "      <td>70208.345162</td>\n",
       "    </tr>\n",
       "    <tr>\n",
       "      <th>349</th>\n",
       "      <td>United Arab Emirates</td>\n",
       "      <td>69753.215256</td>\n",
       "    </tr>\n",
       "    <tr>\n",
       "      <th>1889</th>\n",
       "      <td>Brunei Darussalam</td>\n",
       "      <td>67555.392597</td>\n",
       "    </tr>\n",
       "  </tbody>\n",
       "</table>\n",
       "</div>"
      ],
      "text/plain": [
       "                    country  rgdp_per_capita_ppp\n",
       "7209             Luxembourg        112941.453342\n",
       "7349       China, Macao SAR        105337.890061\n",
       "9799                  Qatar        103445.127269\n",
       "5599                Ireland        102353.631443\n",
       "10289             Singapore         88619.305271\n",
       "1609                Bermuda         79967.588736\n",
       "2239            Switzerland         71831.637057\n",
       "3079         Cayman Islands         70208.345162\n",
       "349    United Arab Emirates         69753.215256\n",
       "1889      Brunei Darussalam         67555.392597"
      ]
     },
     "execution_count": 20,
     "metadata": {},
     "output_type": "execute_result"
    }
   ],
   "source": [
    "data_df['rgdp_per_capita_ppp'] = data_df['rgdpe'] / data_df['pop']\n",
    "top_10_countries = data_df[data_df['year'] == 2019][['country', 'rgdp_per_capita_ppp']].sort_values(by='rgdp_per_capita_ppp', \n",
    "                                                                                  ascending=False).head(10)\n",
    "top_10_countries\n"
   ]
  },
  {
   "cell_type": "markdown",
   "metadata": {},
   "source": [
    "2. Genera el ránking de los países con el mayor incremento del PBI per cápita real PPP entre los años 1990 y 2019. ¿Dónde se ubica Perú? Para los países que no tengan información para dichos años, puede utilizar datos provenientes de hasta dos años antes o después"
   ]
  },
  {
   "cell_type": "code",
   "execution_count": 29,
   "metadata": {},
   "outputs": [
    {
     "data": {
      "text/html": [
       "<div>\n",
       "<style scoped>\n",
       "    .dataframe tbody tr th:only-of-type {\n",
       "        vertical-align: middle;\n",
       "    }\n",
       "\n",
       "    .dataframe tbody tr th {\n",
       "        vertical-align: top;\n",
       "    }\n",
       "\n",
       "    .dataframe thead th {\n",
       "        text-align: right;\n",
       "    }\n",
       "</style>\n",
       "<table border=\"1\" class=\"dataframe\">\n",
       "  <thead>\n",
       "    <tr style=\"text-align: right;\">\n",
       "      <th></th>\n",
       "      <th>country</th>\n",
       "      <th>PBI2019-PBI1990</th>\n",
       "      <th>Posicion</th>\n",
       "    </tr>\n",
       "  </thead>\n",
       "  <tbody>\n",
       "    <tr>\n",
       "      <th>31</th>\n",
       "      <td>Peru</td>\n",
       "      <td>2.357596</td>\n",
       "      <td>32</td>\n",
       "    </tr>\n",
       "  </tbody>\n",
       "</table>\n",
       "</div>"
      ],
      "text/plain": [
       "   country  PBI2019-PBI1990  Posicion\n",
       "31    Peru         2.357596        32"
      ]
     },
     "execution_count": 29,
     "metadata": {},
     "output_type": "execute_result"
    }
   ],
   "source": [
    "data_df[\"PBI_per_capita_PPP\"]=data_df[\"rgdpe\"]/data_df[\"pop\"]\n",
    "data_2019=data_df[(data_df[\"year\"]>=2017) & (data_df[\"year\"]<=2021)]\n",
    "data_1990=data_df[(data_df[\"year\"]>=1990) & (data_df[\"year\"]<=1992)]\n",
    "data_2019=data_2019.sort_values(\"year\",ascending=False).drop_duplicates(subset=\"country\",keep=\"first\")\n",
    "data_1990=data_1990.drop_duplicates(subset=\"country\",keep=\"first\")\n",
    "variacion_data = pd.merge(\n",
    "    data_1990[[\"country\", \"PBI_per_capita_PPP\"]],\n",
    "    data_2019[[\"country\", \"PBI_per_capita_PPP\"]],\n",
    "    on=\"country\",\n",
    "    suffixes=(\"_1990\", \"_2019\"))\n",
    "variacion_data[\"PBI2019-PBI1990\"]=(variacion_data[\"PBI_per_capita_PPP_2019\"]-variacion_data[\"PBI_per_capita_PPP_1990\"])/(variacion_data[\"PBI_per_capita_PPP_1990\"])\n",
    "ranking=variacion_data.sort_values(\"PBI2019-PBI1990\",ascending=False).reset_index()\n",
    "ranking[\"Posicion\"]=ranking.index+1\n",
    "ranking[ranking[\"country\"]==\"Peru\"][[\"country\",\"PBI2019-PBI1990\",\"Posicion\"]]"
   ]
  },
  {
   "cell_type": "code",
   "execution_count": 31,
   "metadata": {},
   "outputs": [
    {
     "data": {
      "text/html": [
       "<div>\n",
       "<style scoped>\n",
       "    .dataframe tbody tr th:only-of-type {\n",
       "        vertical-align: middle;\n",
       "    }\n",
       "\n",
       "    .dataframe tbody tr th {\n",
       "        vertical-align: top;\n",
       "    }\n",
       "\n",
       "    .dataframe thead th {\n",
       "        text-align: right;\n",
       "    }\n",
       "</style>\n",
       "<table border=\"1\" class=\"dataframe\">\n",
       "  <thead>\n",
       "    <tr style=\"text-align: right;\">\n",
       "      <th></th>\n",
       "      <th>index</th>\n",
       "      <th>country</th>\n",
       "      <th>PBI_per_capita_PPP_1990</th>\n",
       "      <th>PBI_per_capita_PPP_2019</th>\n",
       "      <th>PBI2019-PBI1990</th>\n",
       "      <th>Posicion</th>\n",
       "    </tr>\n",
       "  </thead>\n",
       "  <tbody>\n",
       "    <tr>\n",
       "      <th>0</th>\n",
       "      <td>67</td>\n",
       "      <td>Equatorial Guinea</td>\n",
       "      <td>2106.007737</td>\n",
       "      <td>22214.046124</td>\n",
       "      <td>9.547941</td>\n",
       "      <td>1</td>\n",
       "    </tr>\n",
       "    <tr>\n",
       "      <th>1</th>\n",
       "      <td>19</td>\n",
       "      <td>Bosnia and Herzegovina</td>\n",
       "      <td>1556.278685</td>\n",
       "      <td>14224.127158</td>\n",
       "      <td>8.139833</td>\n",
       "      <td>2</td>\n",
       "    </tr>\n",
       "    <tr>\n",
       "      <th>2</th>\n",
       "      <td>148</td>\n",
       "      <td>El Salvador</td>\n",
       "      <td>1162.089916</td>\n",
       "      <td>8331.298521</td>\n",
       "      <td>6.169237</td>\n",
       "      <td>3</td>\n",
       "    </tr>\n",
       "    <tr>\n",
       "      <th>3</th>\n",
       "      <td>113</td>\n",
       "      <td>Myanmar</td>\n",
       "      <td>748.833356</td>\n",
       "      <td>4819.900500</td>\n",
       "      <td>5.436546</td>\n",
       "      <td>4</td>\n",
       "    </tr>\n",
       "    <tr>\n",
       "      <th>4</th>\n",
       "      <td>124</td>\n",
       "      <td>Nigeria</td>\n",
       "      <td>836.472147</td>\n",
       "      <td>4893.912405</td>\n",
       "      <td>4.850658</td>\n",
       "      <td>5</td>\n",
       "    </tr>\n",
       "    <tr>\n",
       "      <th>5</th>\n",
       "      <td>95</td>\n",
       "      <td>Lao People's DR</td>\n",
       "      <td>1265.123309</td>\n",
       "      <td>7359.113354</td>\n",
       "      <td>4.816914</td>\n",
       "      <td>6</td>\n",
       "    </tr>\n",
       "    <tr>\n",
       "      <th>6</th>\n",
       "      <td>178</td>\n",
       "      <td>Viet Nam</td>\n",
       "      <td>1365.924213</td>\n",
       "      <td>7782.607919</td>\n",
       "      <td>4.697686</td>\n",
       "      <td>7</td>\n",
       "    </tr>\n",
       "    <tr>\n",
       "      <th>7</th>\n",
       "      <td>33</td>\n",
       "      <td>China</td>\n",
       "      <td>2477.863628</td>\n",
       "      <td>13988.209097</td>\n",
       "      <td>4.645270</td>\n",
       "      <td>8</td>\n",
       "    </tr>\n",
       "    <tr>\n",
       "      <th>8</th>\n",
       "      <td>79</td>\n",
       "      <td>Ireland</td>\n",
       "      <td>19626.917875</td>\n",
       "      <td>102353.631443</td>\n",
       "      <td>4.214962</td>\n",
       "      <td>9</td>\n",
       "    </tr>\n",
       "    <tr>\n",
       "      <th>9</th>\n",
       "      <td>53</td>\n",
       "      <td>Egypt</td>\n",
       "      <td>2237.634075</td>\n",
       "      <td>10975.896758</td>\n",
       "      <td>3.905135</td>\n",
       "      <td>10</td>\n",
       "    </tr>\n",
       "  </tbody>\n",
       "</table>\n",
       "</div>"
      ],
      "text/plain": [
       "   index                 country  PBI_per_capita_PPP_1990  \\\n",
       "0     67       Equatorial Guinea              2106.007737   \n",
       "1     19  Bosnia and Herzegovina              1556.278685   \n",
       "2    148             El Salvador              1162.089916   \n",
       "3    113                 Myanmar               748.833356   \n",
       "4    124                 Nigeria               836.472147   \n",
       "5     95         Lao People's DR              1265.123309   \n",
       "6    178                Viet Nam              1365.924213   \n",
       "7     33                   China              2477.863628   \n",
       "8     79                 Ireland             19626.917875   \n",
       "9     53                   Egypt              2237.634075   \n",
       "\n",
       "   PBI_per_capita_PPP_2019  PBI2019-PBI1990  Posicion  \n",
       "0             22214.046124         9.547941         1  \n",
       "1             14224.127158         8.139833         2  \n",
       "2              8331.298521         6.169237         3  \n",
       "3              4819.900500         5.436546         4  \n",
       "4              4893.912405         4.850658         5  \n",
       "5              7359.113354         4.816914         6  \n",
       "6              7782.607919         4.697686         7  \n",
       "7             13988.209097         4.645270         8  \n",
       "8            102353.631443         4.214962         9  \n",
       "9             10975.896758         3.905135        10  "
      ]
     },
     "execution_count": 31,
     "metadata": {},
     "output_type": "execute_result"
    }
   ],
   "source": [
    "ranking.head(10)"
   ]
  },
  {
   "cell_type": "markdown",
   "metadata": {},
   "source": [
    "3. Para el periodo 2010-2019, calcule el promedio del índice del capital humano. ¿Qué relación existe entre esta variable y el PBI per cápita real PPP calculado previamente? ¿y el número de horas laboradas al año por los trabajadores?"
   ]
  },
  {
   "cell_type": "code",
   "execution_count": 68,
   "metadata": {},
   "outputs": [
    {
     "data": {
      "text/html": [
       "<div>\n",
       "<style scoped>\n",
       "    .dataframe tbody tr th:only-of-type {\n",
       "        vertical-align: middle;\n",
       "    }\n",
       "\n",
       "    .dataframe tbody tr th {\n",
       "        vertical-align: top;\n",
       "    }\n",
       "\n",
       "    .dataframe thead th {\n",
       "        text-align: right;\n",
       "    }\n",
       "</style>\n",
       "<table border=\"1\" class=\"dataframe\">\n",
       "  <thead>\n",
       "    <tr style=\"text-align: right;\">\n",
       "      <th></th>\n",
       "      <th>country</th>\n",
       "      <th>hc_avg</th>\n",
       "    </tr>\n",
       "  </thead>\n",
       "  <tbody>\n",
       "    <tr>\n",
       "      <th>0</th>\n",
       "      <td>Albania</td>\n",
       "      <td>2.934304</td>\n",
       "    </tr>\n",
       "    <tr>\n",
       "      <th>1</th>\n",
       "      <td>Algeria</td>\n",
       "      <td>2.207947</td>\n",
       "    </tr>\n",
       "    <tr>\n",
       "      <th>2</th>\n",
       "      <td>Angola</td>\n",
       "      <td>1.449344</td>\n",
       "    </tr>\n",
       "    <tr>\n",
       "      <th>3</th>\n",
       "      <td>Anguilla</td>\n",
       "      <td>NaN</td>\n",
       "    </tr>\n",
       "    <tr>\n",
       "      <th>4</th>\n",
       "      <td>Antigua and Barbuda</td>\n",
       "      <td>NaN</td>\n",
       "    </tr>\n",
       "    <tr>\n",
       "      <th>...</th>\n",
       "      <td>...</td>\n",
       "      <td>...</td>\n",
       "    </tr>\n",
       "    <tr>\n",
       "      <th>178</th>\n",
       "      <td>Venezuela (Bolivarian Republic of)</td>\n",
       "      <td>2.738341</td>\n",
       "    </tr>\n",
       "    <tr>\n",
       "      <th>179</th>\n",
       "      <td>Viet Nam</td>\n",
       "      <td>2.647214</td>\n",
       "    </tr>\n",
       "    <tr>\n",
       "      <th>180</th>\n",
       "      <td>Yemen</td>\n",
       "      <td>1.613632</td>\n",
       "    </tr>\n",
       "    <tr>\n",
       "      <th>181</th>\n",
       "      <td>Zambia</td>\n",
       "      <td>2.465329</td>\n",
       "    </tr>\n",
       "    <tr>\n",
       "      <th>182</th>\n",
       "      <td>Zimbabwe</td>\n",
       "      <td>2.554634</td>\n",
       "    </tr>\n",
       "  </tbody>\n",
       "</table>\n",
       "<p>183 rows × 2 columns</p>\n",
       "</div>"
      ],
      "text/plain": [
       "                                country    hc_avg\n",
       "0                               Albania  2.934304\n",
       "1                               Algeria  2.207947\n",
       "2                                Angola  1.449344\n",
       "3                              Anguilla       NaN\n",
       "4                   Antigua and Barbuda       NaN\n",
       "..                                  ...       ...\n",
       "178  Venezuela (Bolivarian Republic of)  2.738341\n",
       "179                            Viet Nam  2.647214\n",
       "180                               Yemen  1.613632\n",
       "181                              Zambia  2.465329\n",
       "182                            Zimbabwe  2.554634\n",
       "\n",
       "[183 rows x 2 columns]"
      ]
     },
     "execution_count": 68,
     "metadata": {},
     "output_type": "execute_result"
    }
   ],
   "source": [
    "hc_period = data_df[(data_df['year'] >= 2010) & (data_df['year'] <= 2019)]\n",
    "hc_avg = hc_period.groupby('country')['hc'].mean().reset_index().rename(columns={'hc': 'hc_avg'})\n",
    "hc_avg"
   ]
  },
  {
   "cell_type": "code",
   "execution_count": 8,
   "metadata": {},
   "outputs": [
    {
     "name": "stdout",
     "output_type": "stream",
     "text": [
      "The correlation between the average human capital and the average real GDP per capita PPP is:  0.7062890338861632\n",
      "The correlation between the average human capital and the average hours worked is:  -0.5769666048397843\n"
     ]
    }
   ],
   "source": [
    "data_2010_2019 = data_df[(data_df [\"year\"] >= 2010) & (data_df[\"year\"] <= 2019)].dropna(subset = [\"hc\", \"rgdpe\", \"pop\", \"avh\"])\n",
    "data_2010_2019[\"pbi_per_capita_ppp\"] = (data_2010_2019[\"rgdpe\"]) / (data_2010_2019[\"pop\"])\n",
    "prom_hc = data_2010_2019.groupby(\"country\")[\"hc\"].mean()\n",
    "# Calcular el promedio del PBI per cápita real PPP y horas trabajadas por país\n",
    "prom_pbi = data_2010_2019.groupby(\"country\")[\"pbi_per_capita_ppp\"].mean()\n",
    "prom_horas = data_2010_2019.groupby(\"country\")[\"avh\"].mean()\n",
    "# Unir los datos en un DataFrame\n",
    "correlacion_data = pd.DataFrame({\n",
    "    \"prom_hc\": prom_hc,\n",
    "    \"prom_pbi_per_capita_ppp\": prom_pbi,\n",
    "    \"prom_horas\": prom_horas\n",
    "}).dropna()\n",
    "# Calcular correlaciones\n",
    "correlacion_pbi = correlacion_data[\"prom_hc\"].corr(correlacion_data[\"prom_pbi_per_capita_ppp\"])\n",
    "correlacion_horas = correlacion_data[\"prom_hc\"].corr(correlacion_data[\"prom_horas\"])\n",
    "correlacion_pbi, correlacion_horas\n",
    "print(\"The correlation between the average human capital and the average real GDP per capita PPP is: \", correlacion_pbi)\n",
    "print(\"The correlation between the average human capital and the average hours worked is: \", correlacion_horas)"
   ]
  },
  {
   "cell_type": "markdown",
   "metadata": {},
   "source": [
    "4. A partir de la variable del precio de los hogares, calcula los países y los años en los cuales se registró la mayor inflación anual para todo el periodo de tiempo disponible en la base de datos"
   ]
  },
  {
   "cell_type": "code",
   "execution_count": 69,
   "metadata": {},
   "outputs": [
    {
     "name": "stderr",
     "output_type": "stream",
     "text": [
      "C:\\Users\\a2019\\AppData\\Local\\Temp\\ipykernel_12060\\3234908707.py:1: FutureWarning: The default fill_method='ffill' in SeriesGroupBy.pct_change is deprecated and will be removed in a future version. Either fill in any non-leading NA values prior to calling pct_change or specify 'fill_method=None' to not fill NA values.\n",
      "  data_df['inflation'] = data_df.groupby('country')['pl_c'].pct_change() * 100\n"
     ]
    },
    {
     "data": {
      "text/html": [
       "<div>\n",
       "<style scoped>\n",
       "    .dataframe tbody tr th:only-of-type {\n",
       "        vertical-align: middle;\n",
       "    }\n",
       "\n",
       "    .dataframe tbody tr th {\n",
       "        vertical-align: top;\n",
       "    }\n",
       "\n",
       "    .dataframe thead th {\n",
       "        text-align: right;\n",
       "    }\n",
       "</style>\n",
       "<table border=\"1\" class=\"dataframe\">\n",
       "  <thead>\n",
       "    <tr style=\"text-align: right;\">\n",
       "      <th></th>\n",
       "      <th>country</th>\n",
       "      <th>year</th>\n",
       "      <th>inflation</th>\n",
       "    </tr>\n",
       "  </thead>\n",
       "  <tbody>\n",
       "    <tr>\n",
       "      <th>12387</th>\n",
       "      <td>Venezuela (Bolivarian Republic of)</td>\n",
       "      <td>2017</td>\n",
       "      <td>355.748049</td>\n",
       "    </tr>\n",
       "    <tr>\n",
       "      <th>12795</th>\n",
       "      <td>Zimbabwe</td>\n",
       "      <td>2005</td>\n",
       "      <td>281.705724</td>\n",
       "    </tr>\n",
       "    <tr>\n",
       "      <th>4742</th>\n",
       "      <td>Equatorial Guinea</td>\n",
       "      <td>2002</td>\n",
       "      <td>278.866183</td>\n",
       "    </tr>\n",
       "    <tr>\n",
       "      <th>1850</th>\n",
       "      <td>Brunei Darussalam</td>\n",
       "      <td>1980</td>\n",
       "      <td>265.190719</td>\n",
       "    </tr>\n",
       "    <tr>\n",
       "      <th>8201</th>\n",
       "      <td>Mauritania</td>\n",
       "      <td>1961</td>\n",
       "      <td>235.565319</td>\n",
       "    </tr>\n",
       "    <tr>\n",
       "      <th>11034</th>\n",
       "      <td>Seychelles</td>\n",
       "      <td>1994</td>\n",
       "      <td>226.327482</td>\n",
       "    </tr>\n",
       "    <tr>\n",
       "      <th>12794</th>\n",
       "      <td>Zimbabwe</td>\n",
       "      <td>2004</td>\n",
       "      <td>163.377645</td>\n",
       "    </tr>\n",
       "    <tr>\n",
       "      <th>10034</th>\n",
       "      <td>Saudi Arabia</td>\n",
       "      <td>1974</td>\n",
       "      <td>147.961250</td>\n",
       "    </tr>\n",
       "    <tr>\n",
       "      <th>119</th>\n",
       "      <td>Angola</td>\n",
       "      <td>1999</td>\n",
       "      <td>144.032916</td>\n",
       "    </tr>\n",
       "    <tr>\n",
       "      <th>304</th>\n",
       "      <td>United Arab Emirates</td>\n",
       "      <td>1974</td>\n",
       "      <td>140.988488</td>\n",
       "    </tr>\n",
       "  </tbody>\n",
       "</table>\n",
       "</div>"
      ],
      "text/plain": [
       "                                  country  year   inflation\n",
       "12387  Venezuela (Bolivarian Republic of)  2017  355.748049\n",
       "12795                            Zimbabwe  2005  281.705724\n",
       "4742                    Equatorial Guinea  2002  278.866183\n",
       "1850                    Brunei Darussalam  1980  265.190719\n",
       "8201                           Mauritania  1961  235.565319\n",
       "11034                          Seychelles  1994  226.327482\n",
       "12794                            Zimbabwe  2004  163.377645\n",
       "10034                        Saudi Arabia  1974  147.961250\n",
       "119                                Angola  1999  144.032916\n",
       "304                  United Arab Emirates  1974  140.988488"
      ]
     },
     "execution_count": 69,
     "metadata": {},
     "output_type": "execute_result"
    }
   ],
   "source": [
    "data_df['inflation'] = data_df.groupby('country')['pl_c'].pct_change() * 100\n",
    "highest_inflation = data_df[['country', 'year', 'inflation']].sort_values(by='inflation', ascending=False).dropna().head(10)\n",
    "highest_inflation"
   ]
  },
  {
   "cell_type": "markdown",
   "metadata": {},
   "source": [
    "5. ¿Cuáles son los países con la mayor cantidad de missing values en la variable de productividad total de factores a precios corrientes?"
   ]
  },
  {
   "cell_type": "code",
   "execution_count": 34,
   "metadata": {},
   "outputs": [
    {
     "data": {
      "text/html": [
       "<div>\n",
       "<style scoped>\n",
       "    .dataframe tbody tr th:only-of-type {\n",
       "        vertical-align: middle;\n",
       "    }\n",
       "\n",
       "    .dataframe tbody tr th {\n",
       "        vertical-align: top;\n",
       "    }\n",
       "\n",
       "    .dataframe thead th {\n",
       "        text-align: right;\n",
       "    }\n",
       "</style>\n",
       "<table border=\"1\" class=\"dataframe\">\n",
       "  <thead>\n",
       "    <tr style=\"text-align: right;\">\n",
       "      <th></th>\n",
       "      <th>country</th>\n",
       "      <th>missing_ctfp</th>\n",
       "    </tr>\n",
       "  </thead>\n",
       "  <tbody>\n",
       "    <tr>\n",
       "      <th>0</th>\n",
       "      <td>Albania</td>\n",
       "      <td>70</td>\n",
       "    </tr>\n",
       "    <tr>\n",
       "      <th>1</th>\n",
       "      <td>Algeria</td>\n",
       "      <td>70</td>\n",
       "    </tr>\n",
       "    <tr>\n",
       "      <th>3</th>\n",
       "      <td>Anguilla</td>\n",
       "      <td>70</td>\n",
       "    </tr>\n",
       "    <tr>\n",
       "      <th>4</th>\n",
       "      <td>Antigua and Barbuda</td>\n",
       "      <td>70</td>\n",
       "    </tr>\n",
       "    <tr>\n",
       "      <th>13</th>\n",
       "      <td>Bangladesh</td>\n",
       "      <td>70</td>\n",
       "    </tr>\n",
       "    <tr>\n",
       "      <th>...</th>\n",
       "      <td>...</td>\n",
       "      <td>...</td>\n",
       "    </tr>\n",
       "    <tr>\n",
       "      <th>167</th>\n",
       "      <td>Turkey</td>\n",
       "      <td>4</td>\n",
       "    </tr>\n",
       "    <tr>\n",
       "      <th>174</th>\n",
       "      <td>United Kingdom</td>\n",
       "      <td>4</td>\n",
       "    </tr>\n",
       "    <tr>\n",
       "      <th>178</th>\n",
       "      <td>Venezuela (Bolivarian Republic of)</td>\n",
       "      <td>4</td>\n",
       "    </tr>\n",
       "    <tr>\n",
       "      <th>175</th>\n",
       "      <td>United States</td>\n",
       "      <td>4</td>\n",
       "    </tr>\n",
       "    <tr>\n",
       "      <th>176</th>\n",
       "      <td>Uruguay</td>\n",
       "      <td>4</td>\n",
       "    </tr>\n",
       "  </tbody>\n",
       "</table>\n",
       "<p>183 rows × 2 columns</p>\n",
       "</div>"
      ],
      "text/plain": [
       "                                country  missing_ctfp\n",
       "0                               Albania            70\n",
       "1                               Algeria            70\n",
       "3                              Anguilla            70\n",
       "4                   Antigua and Barbuda            70\n",
       "13                           Bangladesh            70\n",
       "..                                  ...           ...\n",
       "167                              Turkey             4\n",
       "174                      United Kingdom             4\n",
       "178  Venezuela (Bolivarian Republic of)             4\n",
       "175                       United States             4\n",
       "176                             Uruguay             4\n",
       "\n",
       "[183 rows x 2 columns]"
      ]
     },
     "execution_count": 34,
     "metadata": {},
     "output_type": "execute_result"
    }
   ],
   "source": [
    "missing_ctfp = data_df.groupby('country')['ctfp'].apply(lambda x: x.isna().sum()).reset_index(name='missing_ctfp')\n",
    "top_missing_ctfp = missing_ctfp.sort_values(by='missing_ctfp', ascending=False)\n",
    "top_missing_ctfp"
   ]
  },
  {
   "cell_type": "markdown",
   "metadata": {},
   "source": [
    "6.  Agrupa los datos por país y calcula el promedio de las horas trabajadas anuales (avh) y de la educación promedio (hc) para el periodo 2000-2020."
   ]
  },
  {
   "cell_type": "code",
   "execution_count": 71,
   "metadata": {},
   "outputs": [
    {
     "data": {
      "text/html": [
       "<div>\n",
       "<style scoped>\n",
       "    .dataframe tbody tr th:only-of-type {\n",
       "        vertical-align: middle;\n",
       "    }\n",
       "\n",
       "    .dataframe tbody tr th {\n",
       "        vertical-align: top;\n",
       "    }\n",
       "\n",
       "    .dataframe thead th {\n",
       "        text-align: right;\n",
       "    }\n",
       "</style>\n",
       "<table border=\"1\" class=\"dataframe\">\n",
       "  <thead>\n",
       "    <tr style=\"text-align: right;\">\n",
       "      <th></th>\n",
       "      <th>country</th>\n",
       "      <th>avh</th>\n",
       "      <th>hc</th>\n",
       "    </tr>\n",
       "  </thead>\n",
       "  <tbody>\n",
       "    <tr>\n",
       "      <th>0</th>\n",
       "      <td>Albania</td>\n",
       "      <td>NaN</td>\n",
       "      <td>2.895579</td>\n",
       "    </tr>\n",
       "    <tr>\n",
       "      <th>1</th>\n",
       "      <td>Algeria</td>\n",
       "      <td>NaN</td>\n",
       "      <td>2.080837</td>\n",
       "    </tr>\n",
       "    <tr>\n",
       "      <th>2</th>\n",
       "      <td>Angola</td>\n",
       "      <td>NaN</td>\n",
       "      <td>1.399746</td>\n",
       "    </tr>\n",
       "    <tr>\n",
       "      <th>3</th>\n",
       "      <td>Anguilla</td>\n",
       "      <td>NaN</td>\n",
       "      <td>NaN</td>\n",
       "    </tr>\n",
       "    <tr>\n",
       "      <th>4</th>\n",
       "      <td>Antigua and Barbuda</td>\n",
       "      <td>NaN</td>\n",
       "      <td>NaN</td>\n",
       "    </tr>\n",
       "    <tr>\n",
       "      <th>...</th>\n",
       "      <td>...</td>\n",
       "      <td>...</td>\n",
       "      <td>...</td>\n",
       "    </tr>\n",
       "    <tr>\n",
       "      <th>178</th>\n",
       "      <td>Venezuela (Bolivarian Republic of)</td>\n",
       "      <td>1874.516018</td>\n",
       "      <td>2.538335</td>\n",
       "    </tr>\n",
       "    <tr>\n",
       "      <th>179</th>\n",
       "      <td>Viet Nam</td>\n",
       "      <td>2243.230824</td>\n",
       "      <td>2.407059</td>\n",
       "    </tr>\n",
       "    <tr>\n",
       "      <th>180</th>\n",
       "      <td>Yemen</td>\n",
       "      <td>NaN</td>\n",
       "      <td>1.444725</td>\n",
       "    </tr>\n",
       "    <tr>\n",
       "      <th>181</th>\n",
       "      <td>Zambia</td>\n",
       "      <td>NaN</td>\n",
       "      <td>2.304970</td>\n",
       "    </tr>\n",
       "    <tr>\n",
       "      <th>182</th>\n",
       "      <td>Zimbabwe</td>\n",
       "      <td>NaN</td>\n",
       "      <td>2.388763</td>\n",
       "    </tr>\n",
       "  </tbody>\n",
       "</table>\n",
       "<p>183 rows × 3 columns</p>\n",
       "</div>"
      ],
      "text/plain": [
       "                                country          avh        hc\n",
       "0                               Albania          NaN  2.895579\n",
       "1                               Algeria          NaN  2.080837\n",
       "2                                Angola          NaN  1.399746\n",
       "3                              Anguilla          NaN       NaN\n",
       "4                   Antigua and Barbuda          NaN       NaN\n",
       "..                                  ...          ...       ...\n",
       "178  Venezuela (Bolivarian Republic of)  1874.516018  2.538335\n",
       "179                            Viet Nam  2243.230824  2.407059\n",
       "180                               Yemen          NaN  1.444725\n",
       "181                              Zambia          NaN  2.304970\n",
       "182                            Zimbabwe          NaN  2.388763\n",
       "\n",
       "[183 rows x 3 columns]"
      ]
     },
     "execution_count": 71,
     "metadata": {},
     "output_type": "execute_result"
    }
   ],
   "source": [
    "period_2000_2020 = data_df[(data_df['year'] >= 2000) & (data_df['year'] <= 2020)]\n",
    "average_avh_hc = period_2000_2020.groupby('country').agg({'avh': 'mean', 'hc': 'mean'}).reset_index()\n",
    "average_avh_hc"
   ]
  },
  {
   "cell_type": "markdown",
   "metadata": {},
   "source": [
    "7.  Genere una variable que ordene a los países según el porcetaje de formación brutal de capital del 2019. Luego, estable diez grupos a manera de deciles. ¿En qué decil se ubica Péru? Vuelva a calcular usando la información de 1990. ¿El Perú se mantiene en el mismo décil o cambia?"
   ]
  },
  {
   "cell_type": "code",
   "execution_count": 72,
   "metadata": {},
   "outputs": [
    {
     "data": {
      "text/html": [
       "<div>\n",
       "<style scoped>\n",
       "    .dataframe tbody tr th:only-of-type {\n",
       "        vertical-align: middle;\n",
       "    }\n",
       "\n",
       "    .dataframe tbody tr th {\n",
       "        vertical-align: top;\n",
       "    }\n",
       "\n",
       "    .dataframe thead th {\n",
       "        text-align: right;\n",
       "    }\n",
       "</style>\n",
       "<table border=\"1\" class=\"dataframe\">\n",
       "  <thead>\n",
       "    <tr style=\"text-align: right;\">\n",
       "      <th></th>\n",
       "      <th>country</th>\n",
       "      <th>csh_i_x</th>\n",
       "      <th>decile_2019</th>\n",
       "      <th>csh_i_y</th>\n",
       "      <th>decile_1990</th>\n",
       "    </tr>\n",
       "  </thead>\n",
       "  <tbody>\n",
       "    <tr>\n",
       "      <th>129</th>\n",
       "      <td>Peru</td>\n",
       "      <td>0.205378</td>\n",
       "      <td>5</td>\n",
       "      <td>0.138082</td>\n",
       "      <td>4.0</td>\n",
       "    </tr>\n",
       "  </tbody>\n",
       "</table>\n",
       "</div>"
      ],
      "text/plain": [
       "    country   csh_i_x  decile_2019   csh_i_y  decile_1990\n",
       "129    Peru  0.205378            5  0.138082          4.0"
      ]
     },
     "execution_count": 72,
     "metadata": {},
     "output_type": "execute_result"
    }
   ],
   "source": [
    "csh_i_2019 = data_df[data_df['year'] == 2019][['country', 'csh_i']].dropna()\n",
    "csh_i_1990 = data_df[data_df['year'] == 1990][['country', 'csh_i']].dropna()\n",
    "\n",
    "\n",
    "csh_i_2019['decile_2019'] = pd.qcut(csh_i_2019['csh_i'], 10, labels=False) + 1\n",
    "csh_i_1990['decile_1990'] = pd.qcut(csh_i_1990['csh_i'], 10, labels=False) + 1\n",
    "\n",
    "deciles_comparison = pd.merge(csh_i_2019, csh_i_1990, on='country', how='outer')\n",
    "peru_decile = deciles_comparison[deciles_comparison['country'] == 'Peru']\n",
    "peru_decile"
   ]
  },
  {
   "cell_type": "markdown",
   "metadata": {},
   "source": [
    "## **Transacciones Financieras**"
   ]
  },
  {
   "cell_type": "markdown",
   "metadata": {},
   "source": [
    "Importa el conjunto de datos `base_financiera.csv`\n",
    "    "
   ]
  },
  {
   "cell_type": "code",
   "execution_count": 42,
   "metadata": {},
   "outputs": [],
   "source": [
    "base_financiera = pd.read_csv('base_financiera.csv')"
   ]
  },
  {
   "cell_type": "markdown",
   "metadata": {},
   "source": [
    "8. Filtra todas las transacciones de tipo \"Debit\" en las que el monto sea mayor a 200, y calcula el monto total de esas transacciones. Además, determina cuántos clientes únicos realizaron esas transacciones."
   ]
  },
  {
   "cell_type": "code",
   "execution_count": 36,
   "metadata": {},
   "outputs": [
    {
     "name": "stdout",
     "output_type": "stream",
     "text": [
      "The total amount of debit transactions is:  2847871.75\n",
      "The number of unique customers is:  200\n"
     ]
    }
   ],
   "source": [
    "debit_transactions = base_financiera[(base_financiera['Transaction_Type'] == 'Debit') & (base_financiera['Amount'] > 200)]\n",
    "total_debit_amount = debit_transactions['Amount'].sum()\n",
    "unique_customers = debit_transactions['Customer_ID'].nunique()\n",
    "\n",
    "total_debit_amount, unique_customers\n",
    "print(\"The total amount of debit transactions is: \", total_debit_amount)\n",
    "print(\"The number of unique customers is: \", unique_customers)"
   ]
  },
  {
   "cell_type": "markdown",
   "metadata": {},
   "source": [
    "9. Identifica las transacciones con valores nulos en la columna (`Amount`) . Rellena esos valores con la mediana de los montos por tipo de transacción (`Transaction_Type`) y luego calcula el monto total de transacciones por región (`region`) ."
   ]
  },
  {
   "cell_type": "code",
   "execution_count": 43,
   "metadata": {},
   "outputs": [
    {
     "name": "stdout",
     "output_type": "stream",
     "text": [
      "The number of missing values in the 'Amount' column is:  113\n",
      "The total amount by region is: \n",
      "Region\n",
      "East     1269409.53\n",
      "North    1321224.96\n",
      "South    1208300.23\n",
      "West     1233552.50\n",
      "Name: Amount, dtype: float64\n"
     ]
    }
   ],
   "source": [
    "missing_values = base_financiera['Amount'].isnull().sum()\n",
    "\n",
    "print(\"The number of missing values in the 'Amount' column is: \", missing_values)\n",
    "\n",
    "median_amounts = base_financiera.groupby('Transaction_Type')['Amount'].median()\n",
    "base_financiera['Amount'] = base_financiera.apply(lambda row: median_amounts[row['Transaction_Type']] if pd.isnull(row['Amount']) else row['Amount'], axis=1)\n",
    "total_amount_by_region = base_financiera.groupby('Region')['Amount'].sum()\n",
    "\n",
    "print(\"The total amount by region is: \")\n",
    "print(total_amount_by_region)"
   ]
  },
  {
   "cell_type": "markdown",
   "metadata": {},
   "source": [
    "10. Busca transacciones duplicadas considerando las columnas (`Customer_ID`) y (`Date`). Elimina los duplicados manteniendo solo la primera ocurrencia. Luego, agrupa las transacciones restantes por (`Customer_ID`) y calcula el monto promedio y la cantidad de transacciones por cliente."
   ]
  },
  {
   "cell_type": "code",
   "execution_count": 44,
   "metadata": {},
   "outputs": [
    {
     "name": "stdout",
     "output_type": "stream",
     "text": [
      "The number of duplicates is:  234\n",
      "The customer summary is: \n",
      "             Average_Amount  Transaction_Count\n",
      "Customer_ID                                   \n",
      "C001            3283.319412                 17\n",
      "C002            1881.827778                  9\n",
      "C003            3102.125000                 14\n",
      "C004            2879.267143                  7\n",
      "C005            3364.053333                  6\n"
     ]
    }
   ],
   "source": [
    "duplicates = base_financiera.duplicated(subset=['Customer_ID', 'Date']).sum()\n",
    "\n",
    "base_cleaned = base_financiera.drop_duplicates(subset=['Customer_ID', 'Date'], keep='first')\n",
    "\n",
    "customer_summary_new = base_cleaned.groupby('Customer_ID').agg(Average_Amount=('Amount', 'mean'),\n",
    "                                                               Transaction_Count=('Transaction_ID', 'count')\n",
    ")\n",
    "\n",
    "duplicates, customer_summary_new.head()\n",
    "print(\"The number of duplicates is: \", duplicates)\n",
    "print(\"The customer summary is: \")\n",
    "print(customer_summary_new.head())"
   ]
  }
 ],
 "metadata": {
  "hide_input": false,
  "kernelspec": {
   "display_name": "Python 3",
   "language": "python",
   "name": "python3"
  },
  "language_info": {
   "codemirror_mode": {
    "name": "ipython",
    "version": 3
   },
   "file_extension": ".py",
   "mimetype": "text/x-python",
   "name": "python",
   "nbconvert_exporter": "python",
   "pygments_lexer": "ipython3",
   "version": "3.11.4"
  },
  "toc": {
   "base_numbering": 1,
   "nav_menu": {},
   "number_sections": true,
   "sideBar": true,
   "skip_h1_title": false,
   "title_cell": "Table of Contents",
   "title_sidebar": "Contents",
   "toc_cell": false,
   "toc_position": {},
   "toc_section_display": true,
   "toc_window_display": false
  }
 },
 "nbformat": 4,
 "nbformat_minor": 4
}
